{
 "cells": [
  {
   "cell_type": "code",
   "execution_count": 1,
   "metadata": {},
   "outputs": [
    {
     "name": "stdout",
     "output_type": "stream",
     "text": [
      "Hello World\n"
     ]
    }
   ],
   "source": [
    "from brkga_mp_ipr.enums import Sense\n",
    "from brkga_mp_ipr.types_io import load_configuration\n",
    "from brkga_mp_ipr.algorithm import BrkgaMpIpr\n",
    "\n",
    "print(\"Hello World\")\n",
    "from tqdm.notebook import trange\n",
    "from utils.top import top\n",
    "from utils.decoder2 import TOPdecoder2\n",
    "import time\n",
    "itens = [\"Data/Chao et al., (1996)/Set 4/p4.2.a.txt\", \"Data/Chao et al., (1996)/Set 4/p4.2.b.txt\", \"Data/Chao et al., (1996)/Set 5/p5.2.h.txt\",\n",
    "        \"Data/Chao et al., (1996)/Set 5/p5.2.j.txt\", \"Data/Chao et al., (1996)/Set 6/p6.2.d.txt\",\"Data/Chao et al., (1996)/Set 6/p6.2.j.txt\"]"
   ]
  },
  {
   "cell_type": "code",
   "execution_count": 3,
   "metadata": {},
   "outputs": [
    {
     "name": "stdout",
     "output_type": "stream",
     "text": [
      "Data/Chao et al., (1996)/Set 4/p4.2.a.txt\n",
      "Best cost: 195.0\n",
      "Data/Chao et al., (1996)/Set 4/p4.2.b.txt\n",
      "Best cost: 270.0\n",
      "Data/Chao et al., (1996)/Set 5/p5.2.h.txt\n",
      "Best cost: 220.0\n",
      "Data/Chao et al., (1996)/Set 5/p5.2.j.txt\n",
      "Best cost: 290.0\n",
      "Data/Chao et al., (1996)/Set 6/p6.2.d.txt\n",
      "Best cost: 126.0\n",
      "Data/Chao et al., (1996)/Set 6/p6.2.j.txt\n",
      "Best cost: 408.0\n"
     ]
    }
   ],
   "source": [
    "dados = []\n",
    "brkga_params, _ = load_configuration('config/config.conf')\n",
    "for i in itens:\n",
    "    print(i)\n",
    "    instance = top(i, ' ', '\\t')\n",
    "    decoder = TOPdecoder2(instance)\n",
    "    brkga = BrkgaMpIpr(\n",
    "    decoder=decoder,\n",
    "    sense=Sense.MAXIMIZE,\n",
    "    seed=10,\n",
    "    chromosome_size=instance.n,\n",
    "    params = brkga_params)\n",
    "    brkga.initialize()\n",
    "    brkga.evolve(200)\n",
    "    best_cost = brkga.get_best_fitness()\n",
    "    print(f\"Best cost: {best_cost}\")\n",
    "    dados.append(best_cost)\n"
   ]
  },
  {
   "cell_type": "code",
   "execution_count": 4,
   "metadata": {},
   "outputs": [
    {
     "data": {
      "text/plain": [
       "120.0"
      ]
     },
     "execution_count": 4,
     "metadata": {},
     "output_type": "execute_result"
    }
   ],
   "source": [
    "instance.objective_function()"
   ]
  },
  {
   "cell_type": "code",
   "execution_count": null,
   "metadata": {},
   "outputs": [],
   "source": []
  }
 ],
 "metadata": {
  "kernelspec": {
   "display_name": "Python 3",
   "language": "python",
   "name": "python3"
  },
  "language_info": {
   "codemirror_mode": {
    "name": "ipython",
    "version": 3
   },
   "file_extension": ".py",
   "mimetype": "text/x-python",
   "name": "python",
   "nbconvert_exporter": "python",
   "pygments_lexer": "ipython3",
   "version": "3.9.2"
  }
 },
 "nbformat": 4,
 "nbformat_minor": 4
}
