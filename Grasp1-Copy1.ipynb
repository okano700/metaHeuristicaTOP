{
 "cells": [
  {
   "cell_type": "code",
   "execution_count": 1,
   "metadata": {},
   "outputs": [
    {
     "name": "stdout",
     "output_type": "stream",
     "text": [
      "Hello World\n"
     ]
    }
   ],
   "source": [
    "print(\"Hello World\")\n",
    "from tqdm.notebook import trange\n",
    "from utils import top\n",
    "import numpy as np\n",
    "import gc\n",
    "gc.enable()\n",
    "\n",
    "itens = [\"Data/Chao et al., (1996)/Set 4/p4.2.a.txt\", \"Data/Chao et al., (1996)/Set 4/p4.2.b.txt\", \"Data/Chao et al., (1996)/Set 5/p5.2.h.txt\",\n",
    "        \"Data/Chao et al., (1996)/Set 5/p5.2.j.txt\", \"Data/Chao et al., (1996)/Set 6/p6.2.d.txt\",\"Data/Chao et al., (1996)/Set 6/p6.2.j.txt\"]"
   ]
  },
  {
   "cell_type": "code",
   "execution_count": 2,
   "metadata": {},
   "outputs": [
    {
     "data": {
      "text/plain": [
       "['Data/Chao et al., (1996)/Set 4/p4.2.a.txt',\n",
       " 'Data/Chao et al., (1996)/Set 4/p4.2.b.txt',\n",
       " 'Data/Chao et al., (1996)/Set 5/p5.2.h.txt',\n",
       " 'Data/Chao et al., (1996)/Set 5/p5.2.j.txt',\n",
       " 'Data/Chao et al., (1996)/Set 6/p6.2.d.txt',\n",
       " 'Data/Chao et al., (1996)/Set 6/p6.2.j.txt']"
      ]
     },
     "execution_count": 2,
     "metadata": {},
     "output_type": "execute_result"
    }
   ],
   "source": [
    "itens"
   ]
  },
  {
   "cell_type": "code",
   "execution_count": 3,
   "metadata": {},
   "outputs": [
    {
     "name": "stdout",
     "output_type": "stream",
     "text": [
      "Data/Chao et al., (1996)/Set 4/p4.2.a.txt\n"
     ]
    },
    {
     "data": {
      "application/vnd.jupyter.widget-view+json": {
       "model_id": "9cd1c23c6a214facbcb98e887594ae0b",
       "version_major": 2,
       "version_minor": 0
      },
      "text/plain": [
       "HBox(children=(HTML(value=''), FloatProgress(value=0.0, max=10.0), HTML(value='')))"
      ]
     },
     "metadata": {},
     "output_type": "display_data"
    },
    {
     "name": "stdout",
     "output_type": "stream",
     "text": [
      "187.0\n",
      "187.0\n",
      "192.0\n",
      "187.0\n",
      "190.0\n",
      "187.0\n",
      "187.0\n",
      "190.0\n",
      "187.0\n",
      "187.0\n",
      "\n",
      "Data/Chao et al., (1996)/Set 4/p4.2.b.txt\n"
     ]
    },
    {
     "data": {
      "application/vnd.jupyter.widget-view+json": {
       "model_id": "570433ac0e894b3395e2fa532b57fb22",
       "version_major": 2,
       "version_minor": 0
      },
      "text/plain": [
       "HBox(children=(HTML(value=''), FloatProgress(value=0.0, max=10.0), HTML(value='')))"
      ]
     },
     "metadata": {},
     "output_type": "display_data"
    },
    {
     "name": "stdout",
     "output_type": "stream",
     "text": [
      "335.0\n",
      "335.0\n",
      "335.0\n",
      "331.0\n",
      "324.0\n",
      "331.0\n",
      "335.0\n",
      "327.0\n",
      "335.0\n",
      "327.0\n",
      "\n",
      "Data/Chao et al., (1996)/Set 5/p5.2.h.txt\n"
     ]
    },
    {
     "data": {
      "application/vnd.jupyter.widget-view+json": {
       "model_id": "197fcff3b6534744b49e34633486add8",
       "version_major": 2,
       "version_minor": 0
      },
      "text/plain": [
       "HBox(children=(HTML(value=''), FloatProgress(value=0.0, max=10.0), HTML(value='')))"
      ]
     },
     "metadata": {},
     "output_type": "display_data"
    },
    {
     "name": "stdout",
     "output_type": "stream",
     "text": [
      "390.0\n",
      "390.0\n",
      "390.0\n",
      "400.0\n",
      "390.0\n",
      "390.0\n",
      "395.0\n",
      "390.0\n",
      "390.0\n",
      "390.0\n",
      "\n",
      "Data/Chao et al., (1996)/Set 5/p5.2.j.txt\n"
     ]
    },
    {
     "data": {
      "application/vnd.jupyter.widget-view+json": {
       "model_id": "c44c8442e1a34326b3694e8e8aea6fb4",
       "version_major": 2,
       "version_minor": 0
      },
      "text/plain": [
       "HBox(children=(HTML(value=''), FloatProgress(value=0.0, max=10.0), HTML(value='')))"
      ]
     },
     "metadata": {},
     "output_type": "display_data"
    },
    {
     "name": "stdout",
     "output_type": "stream",
     "text": [
      "560.0\n",
      "550.0\n",
      "560.0\n",
      "560.0\n",
      "555.0\n",
      "560.0\n",
      "550.0\n",
      "560.0\n",
      "570.0\n",
      "555.0\n",
      "\n",
      "Data/Chao et al., (1996)/Set 6/p6.2.d.txt\n"
     ]
    },
    {
     "data": {
      "application/vnd.jupyter.widget-view+json": {
       "model_id": "fca8a37f8f8441afaa423420b04fb471",
       "version_major": 2,
       "version_minor": 0
      },
      "text/plain": [
       "HBox(children=(HTML(value=''), FloatProgress(value=0.0, max=10.0), HTML(value='')))"
      ]
     },
     "metadata": {},
     "output_type": "display_data"
    },
    {
     "name": "stdout",
     "output_type": "stream",
     "text": [
      "192.0\n",
      "192.0\n",
      "192.0\n",
      "192.0\n",
      "192.0\n",
      "192.0\n",
      "192.0\n",
      "192.0\n",
      "192.0\n",
      "192.0\n",
      "\n",
      "Data/Chao et al., (1996)/Set 6/p6.2.j.txt\n"
     ]
    },
    {
     "data": {
      "application/vnd.jupyter.widget-view+json": {
       "model_id": "1098bc2a40df483e8ab1f137e968f07c",
       "version_major": 2,
       "version_minor": 0
      },
      "text/plain": [
       "HBox(children=(HTML(value=''), FloatProgress(value=0.0, max=10.0), HTML(value='')))"
      ]
     },
     "metadata": {},
     "output_type": "display_data"
    },
    {
     "name": "stdout",
     "output_type": "stream",
     "text": [
      "936.0\n",
      "936.0\n",
      "936.0\n",
      "936.0\n",
      "936.0\n",
      "936.0\n",
      "936.0\n",
      "936.0\n",
      "936.0\n",
      "936.0\n",
      "\n"
     ]
    }
   ],
   "source": [
    "dados = []\n",
    "\n",
    "for i in itens:\n",
    "    print(i)\n",
    "    for j in trange(10):\n",
    "        instancia = top.top(i, ' ', '\\t')\n",
    "        best, log, time  = top.GRASP(instancia,tmax = 600, alpha = 0.6)\n",
    "        dados.append(best.of)\n",
    "        print(best.of)"
   ]
  },
  {
   "cell_type": "code",
   "execution_count": null,
   "metadata": {},
   "outputs": [],
   "source": [
    "instancia = top.top(\"Data/Chao et al., (1996)/Set 4/p4.2.b.txt\", ' ', '\\t')"
   ]
  },
  {
   "cell_type": "code",
   "execution_count": null,
   "metadata": {},
   "outputs": [],
   "source": [
    "best, log, time  = top.GRASP(instancia,tmax = 60)"
   ]
  },
  {
   "cell_type": "code",
   "execution_count": null,
   "metadata": {},
   "outputs": [],
   "source": [
    "best.of"
   ]
  },
  {
   "cell_type": "code",
   "execution_count": null,
   "metadata": {},
   "outputs": [],
   "source": [
    "instancia.m"
   ]
  },
  {
   "cell_type": "code",
   "execution_count": null,
   "metadata": {},
   "outputs": [],
   "source": [
    "instancia.tmax"
   ]
  },
  {
   "cell_type": "code",
   "execution_count": null,
   "metadata": {},
   "outputs": [],
   "source": [
    "instancia.n"
   ]
  },
  {
   "cell_type": "code",
   "execution_count": null,
   "metadata": {},
   "outputs": [],
   "source": [
    "top.semi_greed(instancia)"
   ]
  },
  {
   "cell_type": "code",
   "execution_count": null,
   "metadata": {},
   "outputs": [],
   "source": [
    "[i for i in range(instancia.m)]"
   ]
  },
  {
   "cell_type": "code",
   "execution_count": null,
   "metadata": {},
   "outputs": [],
   "source": [
    "instancia.greed_start()"
   ]
  },
  {
   "cell_type": "code",
   "execution_count": null,
   "metadata": {},
   "outputs": [],
   "source": [
    "instancia.cost(0)"
   ]
  },
  {
   "cell_type": "code",
   "execution_count": null,
   "metadata": {},
   "outputs": [],
   "source": [
    "instancia.objective_function()"
   ]
  },
  {
   "cell_type": "code",
   "execution_count": null,
   "metadata": {},
   "outputs": [],
   "source": [
    "instancia.cars[0]"
   ]
  },
  {
   "cell_type": "code",
   "execution_count": null,
   "metadata": {},
   "outputs": [],
   "source": [
    "instancia.add(34,0)"
   ]
  },
  {
   "cell_type": "code",
   "execution_count": null,
   "metadata": {},
   "outputs": [],
   "source": [
    "instancia.greed_start()"
   ]
  },
  {
   "cell_type": "code",
   "execution_count": null,
   "metadata": {},
   "outputs": [],
   "source": [
    "max(10, 20)"
   ]
  },
  {
   "cell_type": "code",
   "execution_count": null,
   "metadata": {},
   "outputs": [],
   "source": [
    "instancia = top.top(\"Data/Chao et al., (1996)/Set 4/p4.2.a.txt\", ' ', '\\t')\n",
    "top.semi_greed(instancia, alpha = 0.9)\n",
    "instancia.objective_function()"
   ]
  },
  {
   "cell_type": "code",
   "execution_count": null,
   "metadata": {},
   "outputs": [],
   "source": [
    "best = top.top(\"Data/Chao et al., (1996)/Set 4/p4.2.b.txt\", ' ', '\\t')\n",
    "b = best.objective_function()\n",
    "for i in range(1000):\n",
    "    instancia = top.top(\"Data/Chao et al., (1996)/Set 4/p4.2.b.txt\", ' ', '\\t')\n",
    "    top.semi_greed(instancia, alpha = 0.7)\n",
    "\n",
    "    instancia = top.grasp_LS(instancia, k = 2)\n",
    "    a = instancia.objective_function()\n",
    "    if a > b:\n",
    "        b = a\n",
    "        best =  instancia\n",
    "        print(b)\n",
    "                                                 \n",
    "best.objective_function()"
   ]
  },
  {
   "cell_type": "code",
   "execution_count": null,
   "metadata": {},
   "outputs": [],
   "source": [
    "best.cars"
   ]
  },
  {
   "cell_type": "code",
   "execution_count": null,
   "metadata": {},
   "outputs": [],
   "source": [
    "best.objective_function()"
   ]
  },
  {
   "cell_type": "code",
   "execution_count": null,
   "metadata": {},
   "outputs": [],
   "source": []
  }
 ],
 "metadata": {
  "kernelspec": {
   "display_name": "Python 3",
   "language": "python",
   "name": "python3"
  },
  "language_info": {
   "codemirror_mode": {
    "name": "ipython",
    "version": 3
   },
   "file_extension": ".py",
   "mimetype": "text/x-python",
   "name": "python",
   "nbconvert_exporter": "python",
   "pygments_lexer": "ipython3",
   "version": "3.9.2"
  }
 },
 "nbformat": 4,
 "nbformat_minor": 4
}
