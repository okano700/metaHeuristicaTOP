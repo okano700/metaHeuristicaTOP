{
 "cells": [
  {
   "cell_type": "code",
   "execution_count": 1,
   "metadata": {},
   "outputs": [
    {
     "name": "stdout",
     "output_type": "stream",
     "text": [
      "Hello World\n"
     ]
    }
   ],
   "source": [
    "print(\"Hello World\")"
   ]
  },
  {
   "cell_type": "code",
   "execution_count": 2,
   "metadata": {},
   "outputs": [],
   "source": [
    "from utils import top\n",
    "                    "
   ]
  },
  {
   "cell_type": "code",
   "execution_count": 3,
   "metadata": {},
   "outputs": [],
   "source": [
    "teste = top.top(\"Data/Dang et al., (2013)/pr299_gen2_m3.txt\")"
   ]
  },
  {
   "cell_type": "code",
   "execution_count": 4,
   "metadata": {},
   "outputs": [
    {
     "data": {
      "text/plain": [
       "300"
      ]
     },
     "execution_count": 4,
     "metadata": {},
     "output_type": "execute_result"
    }
   ],
   "source": [
    "teste.n"
   ]
  },
  {
   "cell_type": "code",
   "execution_count": 5,
   "metadata": {},
   "outputs": [
    {
     "data": {
      "text/plain": [
       "3"
      ]
     },
     "execution_count": 5,
     "metadata": {},
     "output_type": "execute_result"
    }
   ],
   "source": [
    "teste.m"
   ]
  },
  {
   "cell_type": "code",
   "execution_count": 6,
   "metadata": {},
   "outputs": [
    {
     "data": {
      "text/plain": [
       "{'x': 2156, 'y': 1639, 'v': 0}"
      ]
     },
     "execution_count": 6,
     "metadata": {},
     "output_type": "execute_result"
    }
   ],
   "source": [
    "teste.pontos[0]"
   ]
  },
  {
   "cell_type": "code",
   "execution_count": 7,
   "metadata": {},
   "outputs": [
    {
     "name": "stdout",
     "output_type": "stream",
     "text": [
      "[[0.00000000e+00 1.86666667e-01 4.89898990e-01 ... 4.56122955e-02\n",
      "  3.19457890e-02 0.00000000e+00]\n",
      " [0.00000000e+00 5.60000560e-05 9.50980392e-01 ... 3.97065170e-02\n",
      "  4.50204638e-02 0.00000000e+00]\n",
      " [0.00000000e+00 5.49019608e-01 9.70000970e-05 ... 4.15349887e-02\n",
      "  3.95209581e-02 0.00000000e+00]\n",
      " ...\n",
      " [0.00000000e+00 2.41691843e-02 4.37923251e-02 ... 9.20000920e-05\n",
      "  1.08196721e-02 0.00000000e+00]\n",
      " [0.00000000e+00 7.63983629e-02 1.16167665e-01 ... 3.01639344e-02\n",
      "  3.30000330e-05 0.00000000e+00]\n",
      " [0.00000000e+00 1.86666667e-01 4.89898990e-01 ... 4.56122955e-02\n",
      "  3.19457890e-02 0.00000000e+00]]\n"
     ]
    }
   ],
   "source": [
    "print(teste.vDist)"
   ]
  },
  {
   "cell_type": "code",
   "execution_count": 8,
   "metadata": {},
   "outputs": [
    {
     "name": "stdout",
     "output_type": "stream",
     "text": [
      "[[   0.  300.  198. ... 2017. 1033.    0.]\n",
      " [ 300.    0.  102. ... 2317.  733.  300.]\n",
      " [ 198.  102.    0. ... 2215.  835.  198.]\n",
      " ...\n",
      " [2017. 2317. 2215. ...    0. 3050. 2017.]\n",
      " [1033.  733.  835. ... 3050.    0. 1033.]\n",
      " [   0.  300.  198. ... 2017. 1033.    0.]]\n"
     ]
    }
   ],
   "source": [
    "print(teste.dist)"
   ]
  },
  {
   "cell_type": "code",
   "execution_count": 9,
   "metadata": {},
   "outputs": [
    {
     "data": {
      "text/plain": [
       "0.18666666666666668"
      ]
     },
     "execution_count": 9,
     "metadata": {},
     "output_type": "execute_result"
    }
   ],
   "source": [
    "teste.vDist[0][1]"
   ]
  },
  {
   "cell_type": "code",
   "execution_count": 10,
   "metadata": {},
   "outputs": [
    {
     "data": {
      "text/plain": [
       "8032.0"
      ]
     },
     "execution_count": 10,
     "metadata": {},
     "output_type": "execute_result"
    }
   ],
   "source": [
    "teste.tmax"
   ]
  }
 ],
 "metadata": {
  "kernelspec": {
   "display_name": "Python 3",
   "language": "python",
   "name": "python3"
  },
  "language_info": {
   "codemirror_mode": {
    "name": "ipython",
    "version": 3
   },
   "file_extension": ".py",
   "mimetype": "text/x-python",
   "name": "python",
   "nbconvert_exporter": "python",
   "pygments_lexer": "ipython3",
   "version": "3.9.2"
  }
 },
 "nbformat": 4,
 "nbformat_minor": 4
}
