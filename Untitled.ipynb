{
 "cells": [
  {
   "cell_type": "code",
   "execution_count": 1,
   "metadata": {},
   "outputs": [
    {
     "name": "stdout",
     "output_type": "stream",
     "text": [
      "Hello World\n"
     ]
    }
   ],
   "source": [
    "print(\"Hello World\")"
   ]
  },
  {
   "cell_type": "code",
   "execution_count": 2,
   "metadata": {},
   "outputs": [],
   "source": [
    "from utils import top\n",
    "                    "
   ]
  },
  {
   "cell_type": "code",
   "execution_count": 3,
   "metadata": {},
   "outputs": [],
   "source": [
    "teste = top.top(\"Data/Dang et al., (2013)/rd400_gen1_m4.txt\")"
   ]
  },
  {
   "cell_type": "code",
   "execution_count": 4,
   "metadata": {},
   "outputs": [
    {
     "data": {
      "text/plain": [
       "401"
      ]
     },
     "execution_count": 4,
     "metadata": {},
     "output_type": "execute_result"
    }
   ],
   "source": [
    "teste.n"
   ]
  },
  {
   "cell_type": "code",
   "execution_count": 5,
   "metadata": {},
   "outputs": [
    {
     "data": {
      "text/plain": [
       "4"
      ]
     },
     "execution_count": 5,
     "metadata": {},
     "output_type": "execute_result"
    }
   ],
   "source": [
    "teste.m"
   ]
  },
  {
   "cell_type": "code",
   "execution_count": 6,
   "metadata": {},
   "outputs": [
    {
     "data": {
      "text/plain": [
       "{'x': 435.841, 'y': 587.522, 'v': 0}"
      ]
     },
     "execution_count": 6,
     "metadata": {},
     "output_type": "execute_result"
    }
   ],
   "source": [
    "teste.pontos[0]"
   ]
  },
  {
   "cell_type": "code",
   "execution_count": 7,
   "metadata": {},
   "outputs": [
    {
     "name": "stdout",
     "output_type": "stream",
     "text": [
      "[[0.00000000e+00 2.10597254e-02 1.68847615e-02 ... 1.66735584e-03\n",
      "  5.53794182e-03 0.00000000e+00]\n",
      " [0.00000000e+00 1.00000100e-06 9.37128077e-03 ... 1.54503149e-03\n",
      "  7.51379721e-03 0.00000000e+00]\n",
      " [0.00000000e+00 9.37128077e-03 1.00000100e-06 ... 1.85004634e-03\n",
      "  4.17018526e-03 0.00000000e+00]\n",
      " ...\n",
      " [0.00000000e+00 1.54503149e-03 1.85004634e-03 ... 1.00000100e-06\n",
      "  1.28151814e-03 0.00000000e+00]\n",
      " [0.00000000e+00 7.51379721e-03 4.17018526e-03 ... 1.28151814e-03\n",
      "  1.00000100e-06 0.00000000e+00]\n",
      " [0.00000000e+00 2.10597254e-02 1.68847615e-02 ... 1.66735584e-03\n",
      "  5.53794182e-03 0.00000000e+00]]\n"
     ]
    }
   ],
   "source": [
    "print(teste.vDist)"
   ]
  },
  {
   "cell_type": "code",
   "execution_count": 8,
   "metadata": {},
   "outputs": [
    {
     "name": "stdout",
     "output_type": "stream",
     "text": [
      "[[  0.      47.484   59.225  ... 599.752  180.5725   0.    ]\n",
      " [ 47.484    0.     106.709  ... 647.236  133.0885  47.484 ]\n",
      " [ 59.225  106.709    0.     ... 540.527  239.7975  59.225 ]\n",
      " ...\n",
      " [599.752  647.236  540.527  ...   0.     780.3245 599.752 ]\n",
      " [180.5725 133.0885 239.7975 ... 780.3245   0.     180.5725]\n",
      " [  0.      47.484   59.225  ... 599.752  180.5725   0.    ]]\n"
     ]
    }
   ],
   "source": [
    "print(teste.dist)"
   ]
  },
  {
   "cell_type": "code",
   "execution_count": 9,
   "metadata": {},
   "outputs": [
    {
     "data": {
      "text/plain": [
       "0.005482846913431332"
      ]
     },
     "execution_count": 9,
     "metadata": {},
     "output_type": "execute_result"
    }
   ],
   "source": [
    "teste.vDist[0][299]"
   ]
  },
  {
   "cell_type": "code",
   "execution_count": 10,
   "metadata": {},
   "outputs": [
    {
     "data": {
      "text/plain": [
       "1910.25"
      ]
     },
     "execution_count": 10,
     "metadata": {},
     "output_type": "execute_result"
    }
   ],
   "source": [
    "teste.tmax"
   ]
  },
  {
   "cell_type": "code",
   "execution_count": 11,
   "metadata": {},
   "outputs": [
    {
     "name": "stdout",
     "output_type": "stream",
     "text": [
      "Ponto inexistente ou ja utilizado\n"
     ]
    }
   ],
   "source": [
    "teste.add(112,0)\n",
    "teste.add(215,0)\n",
    "teste.add(213,0)\n",
    "teste.add(10,0)\n",
    "teste.add(11,0)\n",
    "teste.add(60,0)\n",
    "teste.add(30,0)\n",
    "teste.add(15,0)\n",
    "teste.add(13,0)\n",
    "teste.add(12,0)\n",
    "teste.add(20,0)\n",
    "teste.add(13,0)\n",
    "teste.add(66,0)\n",
    "teste.add(130,0)\n",
    "\n"
   ]
  },
  {
   "cell_type": "code",
   "execution_count": 12,
   "metadata": {},
   "outputs": [
    {
     "data": {
      "text/plain": [
       "4617.0556"
      ]
     },
     "execution_count": 12,
     "metadata": {},
     "output_type": "execute_result"
    }
   ],
   "source": [
    "teste.cost(0)"
   ]
  },
  {
   "cell_type": "code",
   "execution_count": 13,
   "metadata": {},
   "outputs": [
    {
     "data": {
      "text/plain": [
       "[0, 112, 215, 213, 10, 11, 60, 30, 15, 13, 12, 20, 66, 130, 400]"
      ]
     },
     "execution_count": 13,
     "metadata": {},
     "output_type": "execute_result"
    }
   ],
   "source": [
    "teste.cars[0]"
   ]
  },
  {
   "cell_type": "code",
   "execution_count": 14,
   "metadata": {},
   "outputs": [
    {
     "data": {
      "text/plain": [
       "[0, 15, 13, 30, 11, 60, 130, 213, 215, 12, 20, 112, 10, 66, 400]"
      ]
     },
     "execution_count": 14,
     "metadata": {},
     "output_type": "execute_result"
    }
   ],
   "source": [
    "teste.two_opt(0)"
   ]
  },
  {
   "cell_type": "code",
   "execution_count": 15,
   "metadata": {},
   "outputs": [
    {
     "data": {
      "text/plain": [
       "[0, 15, 13, 30, 11, 60, 130, 213, 215, 12, 20, 112, 10, 66, 400]"
      ]
     },
     "execution_count": 15,
     "metadata": {},
     "output_type": "execute_result"
    }
   ],
   "source": [
    "teste.cars[0]"
   ]
  },
  {
   "cell_type": "code",
   "execution_count": 16,
   "metadata": {},
   "outputs": [
    {
     "data": {
      "text/plain": [
       "2190.9695999999994"
      ]
     },
     "execution_count": 16,
     "metadata": {},
     "output_type": "execute_result"
    }
   ],
   "source": [
    "teste.cost(teste.cars[0])"
   ]
  },
  {
   "cell_type": "code",
   "execution_count": 17,
   "metadata": {},
   "outputs": [
    {
     "data": {
      "text/plain": [
       "[0, 15, 13, 30, 11, 60, 130, 213, 215, 12, 20, 112, 10, 66, 400]"
      ]
     },
     "execution_count": 17,
     "metadata": {},
     "output_type": "execute_result"
    }
   ],
   "source": [
    "teste.cars[0]"
   ]
  },
  {
   "cell_type": "code",
   "execution_count": 18,
   "metadata": {},
   "outputs": [
    {
     "data": {
      "text/plain": [
       "4640.561600000001"
      ]
     },
     "execution_count": 18,
     "metadata": {},
     "output_type": "execute_result"
    }
   ],
   "source": [
    "teste.cost([112, 10, 60, 11, 30, 15, 13, 12, 20, 66, 130, 215, 213])"
   ]
  },
  {
   "cell_type": "code",
   "execution_count": null,
   "metadata": {},
   "outputs": [],
   "source": []
  }
 ],
 "metadata": {
  "kernelspec": {
   "display_name": "Python 3",
   "language": "python",
   "name": "python3"
  },
  "language_info": {
   "codemirror_mode": {
    "name": "ipython",
    "version": 3
   },
   "file_extension": ".py",
   "mimetype": "text/x-python",
   "name": "python",
   "nbconvert_exporter": "python",
   "pygments_lexer": "ipython3",
   "version": "3.9.2"
  }
 },
 "nbformat": 4,
 "nbformat_minor": 4
}
