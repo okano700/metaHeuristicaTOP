{
 "cells": [
  {
   "cell_type": "code",
   "execution_count": 1,
   "metadata": {},
   "outputs": [
    {
     "name": "stdout",
     "output_type": "stream",
     "text": [
      "Hello World\n"
     ]
    }
   ],
   "source": [
    "print(\"Hello World\")\n",
    "from tqdm.notebook import trange\n",
    "from utils import top\n",
    "import numpy as np\n",
    "import gc\n",
    "gc.enable()\n",
    "\n",
    "itens = [\"Data/Chao et al., (1996)/Set 4/p4.2.a.txt\", \"Data/Chao et al., (1996)/Set 4/p4.2.b.txt\", \"Data/Chao et al., (1996)/Set 5/p5.2.h.txt\",\n",
    "        \"Data/Chao et al., (1996)/Set 5/p5.2.j.txt\", \"Data/Chao et al., (1996)/Set 6/p6.2.d.txt\",\"Data/Chao et al., (1996)/Set 6/p6.2.j.txt\"]"
   ]
  },
  {
   "cell_type": "code",
   "execution_count": 2,
   "metadata": {},
   "outputs": [
    {
     "data": {
      "text/plain": [
       "['Data/Chao et al., (1996)/Set 4/p4.2.a.txt',\n",
       " 'Data/Chao et al., (1996)/Set 4/p4.2.b.txt',\n",
       " 'Data/Chao et al., (1996)/Set 5/p5.2.h.txt',\n",
       " 'Data/Chao et al., (1996)/Set 5/p5.2.j.txt',\n",
       " 'Data/Chao et al., (1996)/Set 6/p6.2.d.txt',\n",
       " 'Data/Chao et al., (1996)/Set 6/p6.2.j.txt']"
      ]
     },
     "execution_count": 2,
     "metadata": {},
     "output_type": "execute_result"
    }
   ],
   "source": [
    "itens"
   ]
  },
  {
   "cell_type": "code",
   "execution_count": 3,
   "metadata": {},
   "outputs": [
    {
     "name": "stdout",
     "output_type": "stream",
     "text": [
      "Data/Chao et al., (1996)/Set 4/p4.2.a.txt\n"
     ]
    },
    {
     "data": {
      "application/vnd.jupyter.widget-view+json": {
       "model_id": "817ef9a909e44cd598ed76851a3d1c96",
       "version_major": 2,
       "version_minor": 0
      },
      "text/plain": [
       "HBox(children=(HTML(value=''), FloatProgress(value=0.0, max=10.0), HTML(value='')))"
      ]
     },
     "metadata": {},
     "output_type": "display_data"
    },
    {
     "name": "stdout",
     "output_type": "stream",
     "text": [
      "192.0\n",
      "190.0\n",
      "190.0\n",
      "190.0\n",
      "192.0\n",
      "192.0\n",
      "192.0\n",
      "192.0\n",
      "192.0\n",
      "190.0\n",
      "\n",
      "Data/Chao et al., (1996)/Set 4/p4.2.b.txt\n"
     ]
    },
    {
     "data": {
      "application/vnd.jupyter.widget-view+json": {
       "model_id": "aa4a458f2085405ab3b21cca3e9f976f",
       "version_major": 2,
       "version_minor": 0
      },
      "text/plain": [
       "HBox(children=(HTML(value=''), FloatProgress(value=0.0, max=10.0), HTML(value='')))"
      ]
     },
     "metadata": {},
     "output_type": "display_data"
    },
    {
     "name": "stdout",
     "output_type": "stream",
     "text": [
      "327.0\n",
      "327.0\n",
      "335.0\n",
      "327.0\n",
      "324.0\n",
      "335.0\n",
      "335.0\n",
      "327.0\n",
      "335.0\n",
      "327.0\n",
      "\n",
      "Data/Chao et al., (1996)/Set 5/p5.2.h.txt\n"
     ]
    },
    {
     "data": {
      "application/vnd.jupyter.widget-view+json": {
       "model_id": "1ff493cfedf1428bb7fe009e4a94518c",
       "version_major": 2,
       "version_minor": 0
      },
      "text/plain": [
       "HBox(children=(HTML(value=''), FloatProgress(value=0.0, max=10.0), HTML(value='')))"
      ]
     },
     "metadata": {},
     "output_type": "display_data"
    },
    {
     "name": "stdout",
     "output_type": "stream",
     "text": [
      "390.0\n",
      "390.0\n",
      "390.0\n",
      "390.0\n",
      "390.0\n",
      "390.0\n",
      "390.0\n",
      "390.0\n",
      "390.0\n",
      "390.0\n",
      "\n",
      "Data/Chao et al., (1996)/Set 5/p5.2.j.txt\n"
     ]
    },
    {
     "data": {
      "application/vnd.jupyter.widget-view+json": {
       "model_id": "e29928b4f62f4abab2131222794e0079",
       "version_major": 2,
       "version_minor": 0
      },
      "text/plain": [
       "HBox(children=(HTML(value=''), FloatProgress(value=0.0, max=10.0), HTML(value='')))"
      ]
     },
     "metadata": {},
     "output_type": "display_data"
    },
    {
     "name": "stdout",
     "output_type": "stream",
     "text": [
      "560.0\n",
      "570.0\n",
      "570.0\n",
      "560.0\n",
      "560.0\n",
      "560.0\n",
      "560.0\n",
      "560.0\n",
      "555.0\n",
      "560.0\n",
      "\n",
      "Data/Chao et al., (1996)/Set 6/p6.2.d.txt\n"
     ]
    },
    {
     "data": {
      "application/vnd.jupyter.widget-view+json": {
       "model_id": "91261b518ff54b389c136073cbe60da4",
       "version_major": 2,
       "version_minor": 0
      },
      "text/plain": [
       "HBox(children=(HTML(value=''), FloatProgress(value=0.0, max=10.0), HTML(value='')))"
      ]
     },
     "metadata": {},
     "output_type": "display_data"
    },
    {
     "name": "stdout",
     "output_type": "stream",
     "text": [
      "192.0\n",
      "192.0\n",
      "192.0\n",
      "192.0\n",
      "192.0\n",
      "192.0\n",
      "192.0\n",
      "192.0\n",
      "192.0\n",
      "192.0\n",
      "\n",
      "Data/Chao et al., (1996)/Set 6/p6.2.j.txt\n"
     ]
    },
    {
     "data": {
      "application/vnd.jupyter.widget-view+json": {
       "model_id": "ee96243898c54c70adc8bda0d222640d",
       "version_major": 2,
       "version_minor": 0
      },
      "text/plain": [
       "HBox(children=(HTML(value=''), FloatProgress(value=0.0, max=10.0), HTML(value='')))"
      ]
     },
     "metadata": {},
     "output_type": "display_data"
    },
    {
     "name": "stdout",
     "output_type": "stream",
     "text": [
      "936.0\n",
      "936.0\n",
      "936.0\n",
      "936.0\n",
      "936.0\n",
      "936.0\n",
      "936.0\n",
      "936.0\n",
      "930.0\n",
      "936.0\n",
      "\n"
     ]
    }
   ],
   "source": [
    "dados = []\n",
    "\n",
    "for i in itens:\n",
    "    print(i)\n",
    "    for j in trange(10):\n",
    "        instancia = top.top(i, ' ', '\\t')\n",
    "        best, log, time  = top.GRASP(instancia,tmax = 600)\n",
    "        dados.append(best.of)\n",
    "        print(best.of)"
   ]
  },
  {
   "cell_type": "code",
   "execution_count": null,
   "metadata": {},
   "outputs": [],
   "source": []
  }
 ],
 "metadata": {
  "kernelspec": {
   "display_name": "Python 3",
   "language": "python",
   "name": "python3"
  },
  "language_info": {
   "codemirror_mode": {
    "name": "ipython",
    "version": 3
   },
   "file_extension": ".py",
   "mimetype": "text/x-python",
   "name": "python",
   "nbconvert_exporter": "python",
   "pygments_lexer": "ipython3",
   "version": "3.9.2"
  }
 },
 "nbformat": 4,
 "nbformat_minor": 4
}
